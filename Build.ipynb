{
 "cells": [
  {
   "cell_type": "code",
   "execution_count": 55,
   "metadata": {
    "collapsed": false
   },
   "outputs": [],
   "source": [
    "import re\n",
    "with open(r\"raw_material/webvis.md\", \"r\") as f:\n",
    "    all_material = f.read()"
   ]
  },
  {
   "cell_type": "code",
   "execution_count": null,
   "metadata": {
    "collapsed": false
   },
   "outputs": [],
   "source": []
  },
  {
   "cell_type": "code",
   "execution_count": null,
   "metadata": {
    "collapsed": true
   },
   "outputs": [],
   "source": []
  },
  {
   "cell_type": "code",
   "execution_count": 56,
   "metadata": {
    "collapsed": true
   },
   "outputs": [],
   "source": [
    "with open(r\"templates/inlet.html\", \"r\") as f:\n",
    "    inlet = f.read()\n",
    "\n",
    "def write_out(content, file_name):\n",
    "    if \".js\" in file_name:\n",
    "        content = inlet.format(content)\n",
    "        file_name = file_name.replace(\".js\", \".html\")\n",
    "    \n",
    "    with open(\"output_code_samples/\"+file_name, \"wb\") as f:\n",
    "        f.write(content)\n",
    "        \n",
    "# Want to extract all of the code examples \n",
    "\n",
    "exp = re.compile(r\"`{3}.+?\\n(.+?)`{3}.+?\\*\\*(.+?)\\*\\*\", re.S)\n",
    "matches = re.findall(exp, all_material)\n",
    "\n",
    "for m in matches:\n",
    "    write_out(m[0],m[1])"
   ]
  },
  {
   "cell_type": "code",
   "execution_count": 57,
   "metadata": {
    "collapsed": false
   },
   "outputs": [],
   "source": [
    "# Now get all the file names and replace with a link to the actual file\n",
    "exp = re.compile(r\"\\*\\*(.+)\\*\\*?\", re.S)\n",
    "# num = re.sub(r'abc(def)ghi', '\\1', input)\n",
    "replace_string = r'Click [here](../output_code_samples/\\1) for live version.'\n",
    "# replace_string = '\\1'\n",
    "all_material = re.sub(r\"\\*\\*(.+)?\\*\\*\", replace_string,all_material)\n",
    "\n",
    "find_string = r'output_code_samples/(.+?)\\.js\\)'\n",
    "replace_string = r'output_code_samples/\\1.html)'\n",
    "\n",
    "all_material = re.sub(find_string, replace_string,all_material)"
   ]
  },
  {
   "cell_type": "code",
   "execution_count": 58,
   "metadata": {
    "collapsed": false
   },
   "outputs": [],
   "source": [
    "with open(r\"templates/remark.html\", \"r\") as f:\n",
    "    full_page = f.read()"
   ]
  },
  {
   "cell_type": "code",
   "execution_count": 59,
   "metadata": {
    "collapsed": false
   },
   "outputs": [],
   "source": [
    "# final_slides = \"\\n---\\n\".join(slides)\n",
    "final_slides = full_page.format(all_material)\n",
    "with open(\"output_slides/slides_output.html\", \"wb\") as f:\n",
    "    f.write(final_slides)"
   ]
  },
  {
   "cell_type": "code",
   "execution_count": 60,
   "metadata": {
    "collapsed": false
   },
   "outputs": [],
   "source": [
    "# Want code that extracts each code snippet, saves it to a file, and inserts a hyperlink in the mark down to the snippet.\n",
    "\n",
    "# Extract the slides\n",
    "# slides = []\n",
    "# exp = re.compile(r\"(\\*{3}Slide \\d+)(.*)\\1\", re.S)\n",
    "# matches = re.findall(exp, lines)\n",
    "# for m in matches:\n",
    "#     slides.append(m[1])"
   ]
  },
  {
   "cell_type": "code",
   "execution_count": null,
   "metadata": {
    "collapsed": true
   },
   "outputs": [],
   "source": []
  },
  {
   "cell_type": "code",
   "execution_count": null,
   "metadata": {
    "collapsed": false
   },
   "outputs": [],
   "source": []
  },
  {
   "cell_type": "code",
   "execution_count": null,
   "metadata": {
    "collapsed": true
   },
   "outputs": [],
   "source": []
  }
 ],
 "metadata": {
  "kernelspec": {
   "display_name": "Python 2",
   "language": "python",
   "name": "python2"
  },
  "language_info": {
   "codemirror_mode": {
    "name": "ipython",
    "version": 2
   },
   "file_extension": ".py",
   "mimetype": "text/x-python",
   "name": "python",
   "nbconvert_exporter": "python",
   "pygments_lexer": "ipython2",
   "version": "2.7.11"
  }
 },
 "nbformat": 4,
 "nbformat_minor": 0
}
