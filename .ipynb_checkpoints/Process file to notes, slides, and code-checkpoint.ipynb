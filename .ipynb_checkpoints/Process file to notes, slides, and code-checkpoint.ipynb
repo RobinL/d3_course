{
 "cells": [
  {
   "cell_type": "code",
   "execution_count": 151,
   "metadata": {
    "collapsed": false
   },
   "outputs": [],
   "source": [
    "with open(\"material\\webvis.md\", \"r\") as f:\n",
    "    lines = f.read()"
   ]
  },
  {
   "cell_type": "code",
   "execution_count": 152,
   "metadata": {
    "collapsed": false
   },
   "outputs": [],
   "source": [
    "import re"
   ]
  },
  {
   "cell_type": "code",
   "execution_count": 153,
   "metadata": {
    "collapsed": true
   },
   "outputs": [],
   "source": [
    "full_page = \"\"\"\n",
    "<!DOCTYPE html>\n",
    "<html>\n",
    "  <head>\n",
    "   <link rel=\"stylesheet\" type=\"text/css\" href=\"css/style.css\">\n",
    "  </head>\n",
    "  <body>\n",
    "     <textarea id=\"source\">\n",
    "      {}\n",
    "    </textarea>\n",
    "     <script src=\"js/remark-latest.min.js\">\n",
    "    </script>\n",
    "    <script>\n",
    "       var slideshow = remark.create();\n",
    "    </script>\n",
    "  </body>\n",
    "</html>\n",
    "\"\"\""
   ]
  },
  {
   "cell_type": "code",
   "execution_count": 154,
   "metadata": {
    "collapsed": false
   },
   "outputs": [],
   "source": [
    "# Extract the slides\n",
    "# slides = []\n",
    "# exp = re.compile(r\"(\\*{3}Slide \\d+)(.*)\\1\", re.S)\n",
    "# matches = re.findall(exp, lines)\n",
    "# for m in matches:\n",
    "#     slides.append(m[1])\n",
    "    \n",
    "# final_slides = \"\\n---\\n\".join(slides)\n",
    "final_slides = full_page.format(lines)\n",
    "with open(\"web/slides_output.html\", \"wb\") as f:\n",
    "    f.write(final_slides)"
   ]
  },
  {
   "cell_type": "code",
   "execution_count": 155,
   "metadata": {
    "collapsed": false
   },
   "outputs": [
    {
     "data": {
      "text/plain": [
       "<function re.findall>"
      ]
     },
     "execution_count": 155,
     "metadata": {},
     "output_type": "execute_result"
    }
   ],
   "source": [
    "# Want code that extracts each code snippet, saves it to a file, and inserts a hyperlink in the mark down to the snippet."
   ]
  },
  {
   "cell_type": "code",
   "execution_count": null,
   "metadata": {
    "collapsed": true
   },
   "outputs": [],
   "source": []
  }
 ],
 "metadata": {
  "kernelspec": {
   "display_name": "Python 2",
   "language": "python",
   "name": "python2"
  },
  "language_info": {
   "codemirror_mode": {
    "name": "ipython",
    "version": 2
   },
   "file_extension": ".py",
   "mimetype": "text/x-python",
   "name": "python",
   "nbconvert_exporter": "python",
   "pygments_lexer": "ipython2",
   "version": "2.7.11"
  }
 },
 "nbformat": 4,
 "nbformat_minor": 0
}
