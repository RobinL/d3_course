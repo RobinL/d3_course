{
 "cells": [
  {
   "cell_type": "code",
   "execution_count": 1,
   "metadata": {
    "collapsed": false
   },
   "outputs": [],
   "source": [
    "import re\n",
    "with open(r\"raw_material/webvis.md\", \"r\") as f:\n",
    "    all_material = f.read()"
   ]
  },
  {
   "cell_type": "code",
   "execution_count": null,
   "metadata": {
    "collapsed": false
   },
   "outputs": [],
   "source": []
  },
  {
   "cell_type": "code",
   "execution_count": null,
   "metadata": {
    "collapsed": true
   },
   "outputs": [],
   "source": []
  },
  {
   "cell_type": "code",
   "execution_count": 2,
   "metadata": {
    "collapsed": false
   },
   "outputs": [],
   "source": [
    "with open(r\"templates/inlet.html\", \"r\") as f:\n",
    "    inlet = f.read()\n",
    "\n",
    "def write_out(content, file_name):\n",
    "    if \".js\" in file_name:\n",
    "        content = inlet.format(content)\n",
    "        file_name = file_name.replace(\".js\", \".html\")\n",
    "    if \"-\" in file_name:\n",
    "        return\n",
    "    \n",
    "    with open(\"output_code_samples/\"+file_name, \"wb\") as f:\n",
    "        f.write(content)\n",
    "        \n",
    "# Want to extract all of the code examples \n",
    "\n",
    "exp = re.compile(r\"`{3}.+?\\n(.+?)`{3}.+?\\*\\*(.+?)\\*\\*\", re.S)\n",
    "matches = re.findall(exp, all_material)\n",
    "\n",
    "for m in matches:\n",
    "    write_out(m[0],m[1])"
   ]
  },
  {
   "cell_type": "code",
   "execution_count": 3,
   "metadata": {
    "collapsed": false
   },
   "outputs": [
    {
     "data": {
      "text/plain": [
       "[('<?xml version=\"1.0\"?>\\n<svg width=\"120\" height=\"120\"\\n     xmlns=\"http://www.w3.org/2000/svg\">\\n  <rect x=\"30\" y=\"30\" width=\"30\" height=\"30\"/>\\n  <rect x=\"60\" y=\"60\" width=\"30\" height=\"30\"/>\\n</svg>\\n',\n",
       "  'two_rect.svg'),\n",
       " ('<?xml version=\"1.0\"?>\\n<svg width=\"120\" height=\"120\"\\n     xmlns=\"http://www.w3.org/2000/svg\">\\n  <rect x=\"30\" y=\"80\" width=\"20\" height=\"20\" style=\"fill: #222\"/>\\n  <rect x=\"50\" y=\"70\" width=\"20\" height=\"30\" style=\"fill: #333\"/>\\n  <rect x=\"70\" y=\"50\" width=\"20\" height=\"50\" style=\"fill: #555\"/>\\n  <rect x=\"90\" y=\"20\" width=\"20\" height=\"80\" style=\"fill: #888\"/>\\n</svg>\\n',\n",
       "  '01_four_rect_colours.svg'),\n",
       " ('<!doctype html>\\n<html lang=\"en\">\\n<head>\\n  <meta charset=\"utf-8\">\\n  <title>Data visualisation</title>\\n</head>\\n<body>\\n  <h1>Hello world!</h1>\\n  <table>\\n    <tr>\\n      <td>Robin</td>\\n      <td>50 points</td> \\n    </tr>\\n    <tr>\\n      <td>James</td>\\n      <td>51 points</td> \\n    </tr>\\n  </table>\\n</body>\\n</html>\\n',\n",
       "  'simple_table.html'),\n",
       " ('var svg = d3.select(\"svg\")\\ndata = [10,20,30,40]\\n\\nsvg\\n  .selectAll(\".bars\")\\n\\t.data(data)\\n\\t.enter()\\n\\t.append(\"rect\")\\n\\t.attr(\"x\", function(d,i) {return 10 + i*20})\\n\\t.attr(\"y\", function(d) {return 100 - d})\\n\\t.attr(\"height\", function(d) {return d})\\n  .attr(\"width\", function(d) {return 20})\\n\\n',\n",
       "  'create_rectangles.js'),\n",
       " ('<!doctype html>\\n<html lang=\"en\">\\n<head>\\n  <meta charset=\"utf-8\">\\n  <title>Data visualisation</title>\\n  <style type=\"text/css\">h1 {color:red; } </style>\\n</head>\\n<body>\\n  <h1>Hello world!</h1>\\n  <script type=\"text/javascript\">alert(\"hello\")</script>\\n</body>\\n</html>\\n',\n",
       "  'js_html_css_example.html'),\n",
       " ('index.html\\njs/d3.js\\njs/my_code.js\\ncss/my_style.css\\n', 'd-d'),\n",
       " ('<!doctype html>\\n<html lang=\"en\">\\n<head>\\n  <meta charset=\"utf-8\">\\n  <title>Data visualisation</title>\\n  <style type=\"text/css\">h1 {color:red; } </style>\\n</head>\\n  <body>\\n    <div id=\"svgcontainer\"></div>\\n    <script type=\"text/javascript\" src=\"js/d3.js\"></script>\\n    <script type=\"text/javascript\"> \\n      //This is already here for you\\n      var svg = d3.select(\\'#svgcontainer\\').append(\"svg\") \\n    </script>\\n    <script type=\"text/javascript\">\\n      //Your code goes here e.g.\\n      svg.append(\"rect\").attr(\"x\", 10).attr(\"y\",10).attr(\"height\",10).attr(\"width\",10)\\n      </script>\\n  </body>\\n</html>\\n',\n",
       "  'js_html_css_example2.html'),\n",
       " ('var svg = d3.select(\"svg\")\\ndata = [10,20,30,40]\\n\\nsvg.selectAll(\".bars\")\\n  .data(data)\\n  .enter()\\n  .append(\"rect\")\\n  .attr(\"x\", function(d,i) {return 10 + i*20})\\n  .attr(\"y\", function(d) {return 100 - d})\\n  .attr(\"height\", function(d) {return d})\\n  .attr(\"width\", function(d) {return 20})\\n\\n',\n",
       "  'create_rectangles.js'),\n",
       " ('my_array = [\"a\", \"b\", \"c\"]\\n\\n\\n\\nsvg.selectAll(\".hello\")\\n  .data(my_array)\\n  .enter()\\n  .append(\"hello\")\\n  .text(function(d) {return d})\\n\\n',\n",
       "  'hello.js')]"
      ]
     },
     "execution_count": 3,
     "metadata": {},
     "output_type": "execute_result"
    }
   ],
   "source": [
    "matches"
   ]
  },
  {
   "cell_type": "code",
   "execution_count": 4,
   "metadata": {
    "collapsed": false
   },
   "outputs": [],
   "source": [
    "# Now get all the file names and replace with a link to the actual file\n",
    "exp = re.compile(r\"\\*\\*([A-Za-z\\._]+)\\*\\*?\", re.S)\n",
    "# num = re.sub(r'abc(def)ghi', '\\1', input)\n",
    "replace_string = r'Click [here](../output_code_samples/\\1) for live version.'\n",
    "# replace_string = '\\1'\n",
    "all_material = re.sub(exp, replace_string,all_material)\n",
    "\n",
    "find_string = r'output_code_samples/(.+?)\\.js\\)'\n",
    "replace_string = r'output_code_samples/\\1.html)'\n",
    "\n",
    "all_material = re.sub(find_string, replace_string,all_material)\n",
    "\n",
    "# all_material = re.sub(\"\\*\\*d-d\\*\\*\", \"\",all_material)"
   ]
  },
  {
   "cell_type": "code",
   "execution_count": 5,
   "metadata": {
    "collapsed": false
   },
   "outputs": [],
   "source": [
    "with open(r\"templates/remark.html\", \"r\") as f:\n",
    "    full_page = f.read()"
   ]
  },
  {
   "cell_type": "code",
   "execution_count": 6,
   "metadata": {
    "collapsed": false
   },
   "outputs": [],
   "source": [
    "# final_slides = \"\\n---\\n\".join(slides)\n",
    "final_slides = full_page.format(all_material)\n",
    "with open(\"output_slides/slides_output.html\", \"wb\") as f:\n",
    "    f.write(final_slides)"
   ]
  },
  {
   "cell_type": "code",
   "execution_count": 7,
   "metadata": {
    "collapsed": false
   },
   "outputs": [],
   "source": [
    "# Want code that extracts each code snippet, saves it to a file, and inserts a hyperlink in the mark down to the snippet.\n",
    "\n",
    "# Extract the slides\n",
    "# slides = []\n",
    "# exp = re.compile(r\"(\\*{3}Slide \\d+)(.*)\\1\", re.S)\n",
    "# matches = re.findall(exp, lines)\n",
    "# for m in matches:\n",
    "#     slides.append(m[1])"
   ]
  },
  {
   "cell_type": "code",
   "execution_count": null,
   "metadata": {
    "collapsed": true
   },
   "outputs": [],
   "source": []
  },
  {
   "cell_type": "code",
   "execution_count": null,
   "metadata": {
    "collapsed": false
   },
   "outputs": [],
   "source": []
  },
  {
   "cell_type": "code",
   "execution_count": null,
   "metadata": {
    "collapsed": true
   },
   "outputs": [],
   "source": []
  }
 ],
 "metadata": {
  "kernelspec": {
   "display_name": "Python 2",
   "language": "python",
   "name": "python2"
  },
  "language_info": {
   "codemirror_mode": {
    "name": "ipython",
    "version": 2
   },
   "file_extension": ".py",
   "mimetype": "text/x-python",
   "name": "python",
   "nbconvert_exporter": "python",
   "pygments_lexer": "ipython2",
   "version": "2.7.11"
  }
 },
 "nbformat": 4,
 "nbformat_minor": 0
}
